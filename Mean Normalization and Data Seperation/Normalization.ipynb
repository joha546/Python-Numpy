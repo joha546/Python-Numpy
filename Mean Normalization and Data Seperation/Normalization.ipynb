{
 "cells": [
  {
   "cell_type": "code",
   "execution_count": 1,
   "id": "6373bab7",
   "metadata": {},
   "outputs": [],
   "source": [
    "import numpy as np"
   ]
  },
  {
   "cell_type": "code",
   "execution_count": 2,
   "id": "d20223a0",
   "metadata": {},
   "outputs": [
    {
     "name": "stdout",
     "output_type": "stream",
     "text": [
      "[[4481 3582 4250 ... 2993 3931 1543]\n",
      " [2953 2425  446 ... 3966 1433 3027]\n",
      " [2344 3864 2208 ... 4850   70 4666]\n",
      " ...\n",
      " [1437 4477 3947 ... 4496 4837 3215]\n",
      " [4581  136 4998 ...  538 3428 4009]\n",
      " [ 327 1591  303 ... 3310 3434  709]]\n"
     ]
    }
   ],
   "source": [
    "X=np.random.randint(0,5001,size=(1000,20))\n",
    "print(X)"
   ]
  },
  {
   "cell_type": "code",
   "execution_count": 3,
   "id": "57dcd778",
   "metadata": {},
   "outputs": [],
   "source": [
    "# Average of the values in each column of X\n",
    "ave_cols =np.mean(X, axis=0)\n",
    "\n",
    "# Standard Deviation of the values in each column of X\n",
    "std_cols = np.std(X, axis=0)"
   ]
  },
  {
   "cell_type": "code",
   "execution_count": 4,
   "id": "79205e85",
   "metadata": {},
   "outputs": [
    {
     "name": "stdout",
     "output_type": "stream",
     "text": [
      "The shape of ave_cols is:  (20,)\n",
      "The shape of std_cols is:  (20,)\n"
     ]
    }
   ],
   "source": [
    "# Print the shape of ave_cols\n",
    "print(\"The shape of ave_cols is: \", ave_cols.shape)\n",
    "\n",
    "# Print the shape of std_cols\n",
    "print(\"The shape of std_cols is: \", std_cols.shape)"
   ]
  },
  {
   "cell_type": "code",
   "execution_count": 5,
   "id": "0bb355d4",
   "metadata": {},
   "outputs": [],
   "source": [
    "# Mean Normalize:\n",
    "\n",
    "X_norm=(X -  ave_cols) / std_cols"
   ]
  },
  {
   "cell_type": "code",
   "execution_count": 6,
   "id": "704a4d9b",
   "metadata": {},
   "outputs": [
    {
     "name": "stdout",
     "output_type": "stream",
     "text": [
      "The average of all the values of X_norm is :\n",
      "2.717825964282383e-17\n",
      "2.717825964282383e-17\n",
      "The average of the minimum value in each column of X_norm is: \n",
      "-1.7302635404386546\n",
      "-1.7302635404386546\n",
      "The average of the maximum value in each column of X_norm is: \n",
      "1.7486009631670556\n",
      "1.7486009631670556\n"
     ]
    }
   ],
   "source": [
    "# Print the average of all the values of X_norms\n",
    "\n",
    "print(\"The average of all the values of X_norm is :\")\n",
    "print(np.mean(X_norm))\n",
    "print(X_norm.mean())\n",
    "\n",
    "# Print the average of the minimum value in each column of X_norm\n",
    "\n",
    "print(\"The average of the minimum value in each column of X_norm is: \")\n",
    "print(X_norm.min(axis = 0).mean())\n",
    "print(np.mean(np.sort(X_norm, axis=0)[0]))\n",
    "\n",
    "# Print the average of the maximum value in each column of X_norm\n",
    "\n",
    "print(\"The average of the maximum value in each column of X_norm is: \")\n",
    "print(np.mean(np.sort(X_norm, axis=0)[-1]))\n",
    "print(X_norm.max(axis = 0).mean())"
   ]
  },
  {
   "cell_type": "code",
   "execution_count": 7,
   "id": "1e488892",
   "metadata": {},
   "outputs": [
    {
     "data": {
      "text/plain": [
       "' Data Seperation'"
      ]
     },
     "execution_count": 7,
     "metadata": {},
     "output_type": "execute_result"
    }
   ],
   "source": [
    "''' Data Seperation'''"
   ]
  },
  {
   "cell_type": "code",
   "execution_count": 8,
   "id": "bb1d7da5",
   "metadata": {},
   "outputs": [],
   "source": [
    "# Create a rank 1 ndarray that contains a random permutation of the row indices of `X_norm`\n",
    "row_indices = np.random.permutation(X_norm.shape[0])"
   ]
  },
  {
   "cell_type": "code",
   "execution_count": 9,
   "id": "f59ce79f",
   "metadata": {},
   "outputs": [],
   "source": [
    "sixty=int(len(X_norm)*0.6)\n",
    "\n",
    "eighty= int(len(X_norm)*0.8)\n",
    "\n",
    "# Training set\n",
    "X_train= X_norm[row_indices[:sixty], :]\n",
    "\n",
    "# Create a Cross validation Set\n",
    "X_crossVal=X_norm[row_indices[sixty:eighty], :]\n",
    "\n",
    "# Create a test\n",
    "X_test=X_norm[row_indices[eighty: ], :]"
   ]
  },
  {
   "cell_type": "code",
   "execution_count": 10,
   "id": "9187240e",
   "metadata": {},
   "outputs": [
    {
     "name": "stdout",
     "output_type": "stream",
     "text": [
      "(600, 20)\n",
      "(200, 20)\n",
      "(200, 20)\n"
     ]
    }
   ],
   "source": [
    "print(X_train.shape)\n",
    "\n",
    "print(X_crossVal.shape)\n",
    "\n",
    "print(X_test.shape)"
   ]
  },
  {
   "cell_type": "code",
   "execution_count": null,
   "id": "951b76de",
   "metadata": {},
   "outputs": [],
   "source": []
  }
 ],
 "metadata": {
  "kernelspec": {
   "display_name": "Python 3 (ipykernel)",
   "language": "python",
   "name": "python3"
  },
  "language_info": {
   "codemirror_mode": {
    "name": "ipython",
    "version": 3
   },
   "file_extension": ".py",
   "mimetype": "text/x-python",
   "name": "python",
   "nbconvert_exporter": "python",
   "pygments_lexer": "ipython3",
   "version": "3.11.5"
  }
 },
 "nbformat": 4,
 "nbformat_minor": 5
}
