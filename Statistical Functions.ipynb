{
 "cells": [
  {
   "cell_type": "code",
   "execution_count": 1,
   "id": "2a04683a",
   "metadata": {},
   "outputs": [],
   "source": [
    "import numpy as np"
   ]
  },
  {
   "cell_type": "code",
   "execution_count": 2,
   "id": "adaa4a91",
   "metadata": {},
   "outputs": [
    {
     "name": "stdout",
     "output_type": "stream",
     "text": [
      "\n",
      "X = \n",
      " [[1 2]\n",
      " [3 4]]\n",
      "\n",
      "Average of all elements in X: 2.5\n",
      "Average of all elements in the columns of X: [2. 3.]\n",
      "Average of all elements in the rows of X: [1.5 3.5]\n",
      "\n",
      "Sum of all elements in X: 10\n",
      "Sum of all elements in the columns of X: [4 6]\n",
      "Sum of all elements in the rows of X: [3 7]\n",
      "\n",
      "Standard Deviation of all elements in X: 1.118033988749895\n",
      "Standard Deviation of all elements in the columns of X: [1. 1.]\n",
      "Standard Deviation of all elements in the rows of X: [0.5 0.5]\n",
      "\n",
      "Median of all elements in X: 2.5\n",
      "Median of all elements in the columns of X: [2. 3.]\n",
      "Median of all elements in the rows of X: [1.5 3.5]\n",
      "\n",
      "Maximum value of all elements in X: 4\n",
      "Maximum value of all elements in the columns of X: [3 4]\n",
      "Maximum value of all elements in the rows of X: [2 4]\n",
      "\n",
      "Minimum value of all elements in X: 1\n",
      "Minimum value of all elements in the columns of X: [1 2]\n",
      "Minimum value of all elements in the rows of X: [1 3]\n"
     ]
    }
   ],
   "source": [
    "# We create a 2 x 2 ndarray\n",
    "X = np.array([[1,2], [3,4]])\n",
    "\n",
    "# We print x\n",
    "print()\n",
    "print('X = \\n', X)\n",
    "print()\n",
    "\n",
    "print('Average of all elements in X:', X.mean())\n",
    "print('Average of all elements in the columns of X:', X.mean(axis=0))\n",
    "print('Average of all elements in the rows of X:', X.mean(axis=1))\n",
    "print()\n",
    "print('Sum of all elements in X:', X.sum())\n",
    "print('Sum of all elements in the columns of X:', X.sum(axis=0))\n",
    "print('Sum of all elements in the rows of X:', X.sum(axis=1))\n",
    "print()\n",
    "print('Standard Deviation of all elements in X:', X.std())\n",
    "print('Standard Deviation of all elements in the columns of X:', X.std(axis=0))\n",
    "print('Standard Deviation of all elements in the rows of X:', X.std(axis=1))\n",
    "print()\n",
    "print('Median of all elements in X:', np.median(X))\n",
    "print('Median of all elements in the columns of X:', np.median(X,axis=0))\n",
    "print('Median of all elements in the rows of X:', np.median(X,axis=1))\n",
    "print()\n",
    "print('Maximum value of all elements in X:', X.max())\n",
    "print('Maximum value of all elements in the columns of X:', X.max(axis=0))\n",
    "print('Maximum value of all elements in the rows of X:', X.max(axis=1))\n",
    "print()\n",
    "print('Minimum value of all elements in X:', X.min())\n",
    "print('Minimum value of all elements in the columns of X:', X.min(axis=0))\n",
    "print('Minimum value of all elements in the rows of X:', X.min(axis=1))"
   ]
  },
  {
   "cell_type": "code",
   "execution_count": null,
   "id": "6f7c164a",
   "metadata": {},
   "outputs": [],
   "source": []
  }
 ],
 "metadata": {
  "kernelspec": {
   "display_name": "Python 3 (ipykernel)",
   "language": "python",
   "name": "python3"
  },
  "language_info": {
   "codemirror_mode": {
    "name": "ipython",
    "version": 3
   },
   "file_extension": ".py",
   "mimetype": "text/x-python",
   "name": "python",
   "nbconvert_exporter": "python",
   "pygments_lexer": "ipython3",
   "version": "3.11.5"
  }
 },
 "nbformat": 4,
 "nbformat_minor": 5
}
