{
 "cells": [
  {
   "cell_type": "code",
   "execution_count": 1,
   "id": "ad979969",
   "metadata": {},
   "outputs": [],
   "source": [
    "import numpy as np"
   ]
  },
  {
   "cell_type": "code",
   "execution_count": 2,
   "id": "f4f76349",
   "metadata": {},
   "outputs": [
    {
     "name": "stdout",
     "output_type": "stream",
     "text": [
      "\n",
      "x =  [1 2 3 4]\n",
      "\n",
      "y =  [5.5 6.5 7.5 8.5]\n",
      "\n",
      "x + y =  [ 6.5  8.5 10.5 12.5]\n",
      "add(x,y) =  [ 6.5  8.5 10.5 12.5]\n",
      "\n",
      "x - y =  [-4.5 -4.5 -4.5 -4.5]\n",
      "subtract(x,y) =  [-4.5 -4.5 -4.5 -4.5]\n",
      "\n",
      "x  *y =  [ 5.5 13.  22.5 34. ]\n",
      "multiply(x,y) =  [ 5.5 13.  22.5 34. ]\n",
      "\n",
      "x / y =  [0.18181818 0.30769231 0.4        0.47058824]\n",
      "divide(x,y) =  [0.18181818 0.30769231 0.4        0.47058824]\n"
     ]
    }
   ],
   "source": [
    "# We create two rank 1 ndarrays\n",
    "x = np.array([1,2,3,4])\n",
    "y = np.array([5.5,6.5,7.5,8.5])\n",
    "\n",
    "# We print x\n",
    "print()\n",
    "print('x = ', x)\n",
    "\n",
    "# We print y\n",
    "print()\n",
    "print('y = ', y)\n",
    "print()\n",
    "\n",
    "# We perfrom basic element-wise operations using arithmetic symbols and functions\n",
    "print('x + y = ', x + y)\n",
    "print('add(x,y) = ', np.add(x,y))\n",
    "print()\n",
    "print('x - y = ', x - y)\n",
    "print('subtract(x,y) = ', np.subtract(x,y))\n",
    "print()\n",
    "print('x  *y = ', x*  y)\n",
    "print('multiply(x,y) = ', np.multiply(x,y))\n",
    "print()\n",
    "print('x / y = ', x / y)\n",
    "print('divide(x,y) = ', np.divide(x,y))"
   ]
  },
  {
   "cell_type": "code",
   "execution_count": 4,
   "id": "8799fe8a",
   "metadata": {},
   "outputs": [
    {
     "name": "stdout",
     "output_type": "stream",
     "text": [
      "\n",
      "X = \n",
      " [[1 2]\n",
      " [3 4]]\n",
      "\n",
      "Y = \n",
      " [[5.5 6.5]\n",
      " [7.5 8.5]]\n",
      "\n",
      "X + Y = \n",
      " [[ 6.5  8.5]\n",
      " [10.5 12.5]]\n",
      "\n",
      "add(X,Y) = \n",
      " [[ 6.5  8.5]\n",
      " [10.5 12.5]]\n",
      "\n",
      "X - Y = \n",
      " [[-4.5 -4.5]\n",
      " [-4.5 -4.5]]\n",
      "\n",
      "subtract(X,Y) = \n",
      " [[-4.5 -4.5]\n",
      " [-4.5 -4.5]]\n",
      "\n",
      "X  *Y = \n",
      " [[ 5.5 13. ]\n",
      " [22.5 34. ]]\n",
      "\n",
      "multiply(X,Y) = \n",
      " [[ 5.5 13. ]\n",
      " [22.5 34. ]]\n",
      "\n",
      "X / Y = \n",
      " [[0.18181818 0.30769231]\n",
      " [0.4        0.47058824]]\n",
      "\n",
      "divide(X,Y) = \n",
      " [[0.18181818 0.30769231]\n",
      " [0.4        0.47058824]]\n"
     ]
    }
   ],
   "source": [
    "'''We can also perform the same element-wise arithmetic operations on rank 2 ndarrays. Again,\n",
    "remember that in order to do these operations the shapes of the ndarrays being operated on, must have the same shape or be broadcastable.'''# We create two rank 2 ndarrays\n",
    "X = np.array([1,2,3,4]).reshape(2,2)\n",
    "Y = np.array([5.5,6.5,7.5,8.5]).reshape(2,2)\n",
    "\n",
    "# We print X\n",
    "print()\n",
    "print('X = \\n', X)\n",
    "\n",
    "# We print Y\n",
    "print()\n",
    "print('Y = \\n', Y)\n",
    "print()\n",
    "\n",
    "# We perform basic element-wise operations using arithmetic symbols and functions\n",
    "print('X + Y = \\n', X + Y)\n",
    "print()\n",
    "print('add(X,Y) = \\n', np.add(X,Y))\n",
    "print()\n",
    "print('X - Y = \\n', X - Y)\n",
    "print()\n",
    "print('subtract(X,Y) = \\n', np.subtract(X,Y))\n",
    "print()\n",
    "print('X  *Y = \\n', X*  Y)\n",
    "print()\n",
    "print('multiply(X,Y) = \\n', np.multiply(X,Y))\n",
    "print()\n",
    "print('X / Y = \\n', X / Y)\n",
    "print()\n",
    "print('divide(X,Y) = \\n', np.divide(X,Y))"
   ]
  },
  {
   "cell_type": "code",
   "execution_count": 5,
   "id": "9f760883",
   "metadata": {},
   "outputs": [
    {
     "name": "stdout",
     "output_type": "stream",
     "text": [
      "\n",
      "x =  [1 2 3 4]\n",
      "\n",
      "EXP(x) = [ 2.71828183  7.3890561  20.08553692 54.59815003]\n",
      "\n",
      "SQRT(x) = [1.         1.41421356 1.73205081 2.        ]\n",
      "\n",
      "POW(x,2) = [ 1  4  9 16]\n"
     ]
    }
   ],
   "source": [
    "# Additional Mathematical Functions\n",
    "\n",
    "# We create a rank 1 ndarray\n",
    "x = np.array([1,2,3,4])\n",
    "\n",
    "# We print x\n",
    "print()\n",
    "print('x = ', x)\n",
    "\n",
    "# We apply different mathematical functions to all elements of x\n",
    "print()\n",
    "print('EXP(x) =', np.exp(x))\n",
    "print()\n",
    "print('SQRT(x) =',np.sqrt(x))\n",
    "print()\n",
    "print('POW(x,2) =',np.power(x,2)) # We raise all elements to the power of 2"
   ]
  },
  {
   "cell_type": "code",
   "execution_count": 6,
   "id": "532b96e4",
   "metadata": {},
   "outputs": [
    {
     "name": "stdout",
     "output_type": "stream",
     "text": [
      "\n",
      "x =  [1 2 3]\n",
      "\n",
      "\n",
      "Y = \n",
      " [[1 2 3]\n",
      " [4 5 6]\n",
      " [7 8 9]]\n",
      "\n",
      "\n",
      "Z = \n",
      " [[1]\n",
      " [2]\n",
      " [3]]\n",
      "\n",
      "x + Y = \n",
      " [[ 2  4  6]\n",
      " [ 5  7  9]\n",
      " [ 8 10 12]]\n",
      "\n",
      "Z + Y = \n",
      " [[ 2  3  4]\n",
      " [ 6  7  8]\n",
      " [10 11 12]]\n"
     ]
    }
   ],
   "source": [
    "# We create a rank 1 ndarray\n",
    "x = np.array([1,2,3])\n",
    "\n",
    "# We create a 3 x 3 ndarray\n",
    "Y = np.array([[1,2,3],[4,5,6],[7,8,9]])\n",
    "\n",
    "# We create a 3 x 1 ndarray\n",
    "Z = np.array([1,2,3]).reshape(3,1)\n",
    "\n",
    "# We print x\n",
    "print()\n",
    "print('x = ', x)\n",
    "print()\n",
    "\n",
    "# We print Y\n",
    "print()\n",
    "print('Y = \\n', Y)\n",
    "print()\n",
    "\n",
    "# We print Z\n",
    "print()\n",
    "print('Z = \\n', Z)\n",
    "print()\n",
    "\n",
    "print('x + Y = \\n', x + Y)\n",
    "print()\n",
    "print('Z + Y = \\n',Z + Y)"
   ]
  },
  {
   "cell_type": "code",
   "execution_count": null,
   "id": "832b93dc",
   "metadata": {},
   "outputs": [],
   "source": [
    "''' Note Book : As before, NumPy is able to add 1 x 3 and 3 x 1 ndarrays to 3 x 3 ndarrays by broadcasting the smaller ndarrays\n",
    "along the big ndarray so that they have compatible shapes. In general, NumPy can do this provided that the smaller ndarray, such as the 1 x 3 ndarray in our example,\n",
    "can be expanded to the shape of the larger ndarray in such a way that the resulting broadcast is unambiguous.'''"
   ]
  }
 ],
 "metadata": {
  "kernelspec": {
   "display_name": "Python 3 (ipykernel)",
   "language": "python",
   "name": "python3"
  },
  "language_info": {
   "codemirror_mode": {
    "name": "ipython",
    "version": 3
   },
   "file_extension": ".py",
   "mimetype": "text/x-python",
   "name": "python",
   "nbconvert_exporter": "python",
   "pygments_lexer": "ipython3",
   "version": "3.11.5"
  }
 },
 "nbformat": 4,
 "nbformat_minor": 5
}
