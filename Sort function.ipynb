{
 "cells": [
  {
   "cell_type": "code",
   "execution_count": 1,
   "id": "53ac0efd",
   "metadata": {},
   "outputs": [],
   "source": [
    "import numpy as np"
   ]
  },
  {
   "cell_type": "code",
   "execution_count": 3,
   "id": "aef80154",
   "metadata": {},
   "outputs": [
    {
     "data": {
      "text/plain": [
       "'It returns a sorted copy of an array. The axis denotes the axis along which to sort. It can take values in the range -1 to (ndim-1). Axis can take the following possible values for a given 2-D ndarray:\\n\\nIf nothing is specified, the default value is axis = -1, which sorts along the last axis. In the case of a given 2-D ndarray, the last axis value is 1.\\nIf explicitly axis = None is specified, the array is flattened before sorting. It will return a 1-D array.\\nIf axis = 0 is specified for a given 2-D array - For one column at a time, the function will sort all rows, without disturbing other elements. In the final output, you will see that each column has been sorted individually.\\nThe output of axis = 1 for a given 2-D array is vice-versa for axis = 0. In the final output, you will see that each row has been sorted individually.'"
      ]
     },
     "execution_count": 3,
     "metadata": {},
     "output_type": "execute_result"
    }
   ],
   "source": [
    "# numpy.sort(array, axis=-1, kind=None, order=None)\n",
    "\n",
    "'''It returns a sorted copy of an array. The axis denotes the axis along which to sort. It can take values in the range -1 to (ndim-1). Axis can take the following possible values for a given 2-D ndarray:\n",
    "\n",
    "If nothing is specified, the default value is axis = -1, which sorts along the last axis. In the case of a given 2-D ndarray, the last axis value is 1.\n",
    "If explicitly axis = None is specified, the array is flattened before sorting. It will return a 1-D array.\n",
    "If axis = 0 is specified for a given 2-D array - For one column at a time, the function will sort all rows, without disturbing other elements. In the final output, you will see that each column has been sorted individually.\n",
    "The output of axis = 1 for a given 2-D array is vice-versa for axis = 0. In the final output, you will see that each row has been sorted individually.'''"
   ]
  },
  {
   "cell_type": "code",
   "execution_count": 4,
   "id": "bae024bb",
   "metadata": {},
   "outputs": [
    {
     "name": "stdout",
     "output_type": "stream",
     "text": [
      "\n",
      "Original X = \n",
      " [[ 8  8  8  6  9]\n",
      " [ 1  4  5  1  7]\n",
      " [ 4  9  8 10  7]\n",
      " [ 5  6  4  3  1]\n",
      " [ 8  3  3  1  4]]\n",
      "\n",
      "\n",
      "X with sorted columns :\n",
      " [[ 1  3  3  1  1]\n",
      " [ 4  4  4  1  4]\n",
      " [ 5  6  5  3  7]\n",
      " [ 8  8  8  6  7]\n",
      " [ 8  9  8 10  9]]\n",
      "\n",
      "X with sorted rows :\n",
      " [[ 6  8  8  8  9]\n",
      " [ 1  1  4  5  7]\n",
      " [ 4  7  8  9 10]\n",
      " [ 1  3  4  5  6]\n",
      " [ 1  3  3  4  8]]\n"
     ]
    }
   ],
   "source": [
    "# We create an unsorted rank 2 ndarray\n",
    "X = np.random.randint(1,11,size=(5,5))\n",
    "\n",
    "# We print X\n",
    "print()\n",
    "print('Original X = \\n', X)\n",
    "print()\n",
    "\n",
    "# We sort the columns of X and print the sorted array\n",
    "print()\n",
    "print('X with sorted columns :\\n', np.sort(X, axis = 0))\n",
    "\n",
    "# We sort the rows of X and print the sorted array\n",
    "print()\n",
    "print('X with sorted rows :\\n', np.sort(X, axis = 1))"
   ]
  },
  {
   "cell_type": "code",
   "execution_count": null,
   "id": "9ccc6f7b",
   "metadata": {},
   "outputs": [],
   "source": []
  }
 ],
 "metadata": {
  "kernelspec": {
   "display_name": "Python 3 (ipykernel)",
   "language": "python",
   "name": "python3"
  },
  "language_info": {
   "codemirror_mode": {
    "name": "ipython",
    "version": 3
   },
   "file_extension": ".py",
   "mimetype": "text/x-python",
   "name": "python",
   "nbconvert_exporter": "python",
   "pygments_lexer": "ipython3",
   "version": "3.11.5"
  }
 },
 "nbformat": 4,
 "nbformat_minor": 5
}
